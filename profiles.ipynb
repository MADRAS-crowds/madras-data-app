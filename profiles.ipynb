{
 "cells": [
  {
   "cell_type": "markdown",
   "id": "9624f012-f0b1-4ea8-aecd-b419f469944f",
   "metadata": {},
   "source": [
    "## Profiles"
   ]
  },
  {
   "cell_type": "code",
   "execution_count": null,
   "id": "31355dea-ab9c-429f-acb7-b36c1536a4d2",
   "metadata": {},
   "outputs": [],
   "source": [
    "import pedpy as pp\n",
    "from pedpy import (\n",
    "    get_grid_cells,\n",
    "    compute_grid_cell_polygon_intersection_area,\n",
    ")\n",
    "from pedpy.column_identifier import SPEED_COL, FRAME_COL, ID_COL\n",
    "\n",
    "import matplotlib.pyplot as plt\n",
    "import glob\n",
    "from pathlib import Path\n",
    "import pickle"
   ]
  },
  {
   "cell_type": "code",
   "execution_count": null,
   "id": "cc794cdd-c141-422c-9a3f-f271598ba0a7",
   "metadata": {},
   "outputs": [],
   "source": [
    "files = sorted(glob.glob(\"AppData/*.txt\"))\n",
    "area = [[-6, 0], [5, 0], [5, 7], [-6, 7]]\n",
    "walkable_area = pp.WalkableArea(area)\n",
    "trajectories = {}\n",
    "for file in files:\n",
    "    trajectories[file] = pp.load_trajectory(trajectory_file=Path(file),default_frame_rate=30,\n",
    "        default_unit=pp.TrajectoryUnit.METER,)"
   ]
  },
  {
   "cell_type": "code",
   "execution_count": null,
   "id": "d94d3437-4501-4f4b-b88a-e77003b223d2",
   "metadata": {},
   "outputs": [],
   "source": [
    "voronoi_polygons = {}\n",
    "for idx, (filename, traj) in enumerate(trajectories.items()):\n",
    "    voronoi_polygons[filename] = pp.compute_individual_voronoi_polygons(\n",
    "        traj_data=traj, walkable_area=walkable_area\n",
    "    )\n",
    "\n",
    "\n",
    "#individual_cutoff = pp.compute_individual_voronoi_polygons(\n",
    "#    traj_data=traj,\n",
    "#    walkable_area=walkable_area,\n",
    "#    cut_off=Cutoff(radius=0.8, quad_segments=3),\n",
    "#)"
   ]
  },
  {
   "cell_type": "code",
   "execution_count": null,
   "id": "7eeeb1e9-b0ad-4999-afa8-cf50e78c59bf",
   "metadata": {},
   "outputs": [],
   "source": [
    "density_voronoi = {}\n",
    "speed_voronoi = {}\n",
    "individual_speed = {}\n",
    "intersecting = {}\n",
    "for idx, (filename, traj) in enumerate(trajectories.items()):\n",
    "    density_voronoi[filename], intersecting = pp.compute_voronoi_density(\n",
    "        individual_voronoi_data=voronoi_polygons[filename],\n",
    "        measurement_area=walkable_area,\n",
    "    )\n",
    "    individual_speed[filename] = pp.compute_individual_speed(\n",
    "        traj_data=traj,\n",
    "        frame_step=1,\n",
    "        compute_velocity=True,\n",
    "        speed_calculation=pp.SpeedCalculation.BORDER_SINGLE_SIDED,\n",
    "    )\n",
    "    speed_voronoi[filename] = pp.compute_voronoi_speed(\n",
    "        traj_data=traj,\n",
    "        individual_voronoi_intersection=intersecting,\n",
    "        measurement_area=walkable_area,\n",
    "        individual_speed=individual_speed[filename],\n",
    "    )"
   ]
  },
  {
   "cell_type": "code",
   "execution_count": null,
   "id": "2c972708-2c25-405c-96e2-e1c29f47db10",
   "metadata": {},
   "outputs": [],
   "source": [
    "profile_data = {}\n",
    "for idx, (filename, traj) in enumerate(trajectories.items()):\n",
    "    print(filename)\n",
    "    profile_data[filename] = individual_speed[filename].merge(voronoi_polygons[filename], on=[ID_COL, FRAME_COL])\n",
    "    profile_data[filename] = profile_data[filename].merge(traj.data, on=[ID_COL, FRAME_COL])"
   ]
  },
  {
   "cell_type": "code",
   "execution_count": null,
   "id": "82fdb68c-0197-4dd9-80b8-12bed60a2977",
   "metadata": {},
   "outputs": [],
   "source": [
    "import pickle\n",
    "profile_file = \"AppData/profile_data.pkl\"\n",
    "with open(profile_file, \"wb\") as f:\n",
    "    pickle.dump(profile_data, f)"
   ]
  },
  {
   "cell_type": "code",
   "execution_count": null,
   "id": "8ce8a371-bb41-4420-a02b-fbc48e33876b",
   "metadata": {},
   "outputs": [],
   "source": [
    "grid_size = 0.4\n",
    "grid_cells, _, _ = get_grid_cells(\n",
    "    walkable_area=walkable_area, grid_size=grid_size\n",
    ")\n",
    "(grid_cell_intersection_area,resorted_profile_data,) = compute_grid_cell_polygon_intersection_area(data=profile_data, grid_cells=grid_cells)"
   ]
  },
  {
   "cell_type": "code",
   "execution_count": null,
   "id": "ab6f2b03-c5b2-43c8-a64a-bf7e6bc6157f",
   "metadata": {},
   "outputs": [],
   "source": [
    "voronoi_density_profile = pp.compute_density_profile(\n",
    "    data=resorted_profile_data,\n",
    "    walkable_area=walkable_area,\n",
    "    grid_intersections_area=grid_cell_intersection_area,\n",
    "    grid_size=grid_size,\n",
    "    density_method=DensityMethod.VORONOI,\n",
    ")"
   ]
  },
  {
   "cell_type": "code",
   "execution_count": null,
   "id": "dfa5a9f9-39f9-40a0-a533-b7b827f57d84",
   "metadata": {},
   "outputs": [],
   "source": [
    "voronoi_speed_profile = compute_speed_profile(\n",
    "    data=resorted_profile_data,\n",
    "    walkable_area=walkable_area,\n",
    "    grid_intersections_area=grid_cell_intersection_area,\n",
    "    grid_size=grid_size,\n",
    "    speed_method=SpeedMethod.VORONOI,\n",
    ")"
   ]
  },
  {
   "cell_type": "code",
   "execution_count": null,
   "id": "23e4abe1-4c41-440e-8c1d-4a1893667073",
   "metadata": {},
   "outputs": [],
   "source": [
    "from pedpy import plot_profiles\n",
    "import matplotlib.pyplot as plt\n",
    "\n",
    "rmax=4 \n",
    "vmax=2\n",
    "jmax=5\n",
    "fig, (ax0, ax1, ax2) = plt.subplots(nrows=1, ncols=3, layout=\"constrained\")\n",
    "fig.set_size_inches(12, 5)\n",
    "fig.suptitle(\"Density profile\")\n",
    "cm = plot_profiles(\n",
    "    walkable_area=walkable_area,\n",
    "    profiles=voronoi_density_profile,\n",
    "    axes=ax0,\n",
    "    label=r\"$\\\\rho$ / 1/$m^2$\",\n",
    "    vmin=0,\n",
    "    vmax=rmax,\n",
    "    #title=\"Voronoi\",\n",
    ")\n",
    "#colorbar_ax = fig.axes[]\n",
    "#colorbar_ax.set_ylabel(\"$\\\\rho$ / 1/$m^2$\", size=18)\n",
    "#colorbar_ax.tick_params(labelsize=18)\n",
    "cm = plot_profiles(\n",
    "    walkable_area=walkable_area,\n",
    "    profiles=speed_profiles,\n",
    "    axes=ax1,\n",
    "    label=r\"$v / m/s$\",\n",
    "    vmin=0,\n",
    "    vmax=vmax,\n",
    "    #title=\"Speed\",\n",
    ")\n",
    "fig.tight_layout(pad=2)\n",
    "cm = plot_profiles(\n",
    "    walkable_area=walkable_area,\n",
    "    profiles=voronoi_density_profile,speed_profiles\n",
    "    axes=ax2,\n",
    "    label=r\"$J$ / 1/$m.s$\",\n",
    "    vmin=0,\n",
    "    vmax=8,\n",
    "    #title=\"Classic\",\n",
    ")\n",
    "\n",
    "for ax in [ax0, ax1, ax2]:\n",
    "    ax.tick_params(axis=\"x\", length=0)\n",
    "    ax.tick_params(axis=\"y\", length=0)\n",
    "    ax.set_xlabel(\"\")\n",
    "    ax.set_ylabel(\"\")\n",
    "    ax.set_xticklabels([])\n",
    "    ax.set_yticklabels([])\n",
    "\n",
    "\n",
    "plt.show()"
   ]
  }
 ],
 "metadata": {
  "kernelspec": {
   "display_name": "Python 3 (ipykernel)",
   "language": "python",
   "name": "python3"
  },
  "language_info": {
   "codemirror_mode": {
    "name": "ipython",
    "version": 3
   },
   "file_extension": ".py",
   "mimetype": "text/x-python",
   "name": "python",
   "nbconvert_exporter": "python",
   "pygments_lexer": "ipython3",
   "version": "3.11.7"
  }
 },
 "nbformat": 4,
 "nbformat_minor": 5
}
